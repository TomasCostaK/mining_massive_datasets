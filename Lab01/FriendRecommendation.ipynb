{
 "cells": [
  {
   "cell_type": "code",
   "execution_count": 1,
   "metadata": {},
   "outputs": [],
   "source": [
    "#import findspark\n",
    "#findspark.init('/usr/local/spark')\n",
    "# FINDSPARK BREAKS THE SETTINGS FOR RUNNING ON THE MASTER+WORKERS\n",
    "# INSTEAD, DO:\n",
    "import os, sys\n",
    "sys.path[:0] = ['/usr/local/spark/python', '/usr/local/spark/python/lib/py4j-0.10.9-src.zip']\n",
    "\n",
    "from pyspark import SparkConf, SparkContext"
   ]
  },
  {
   "cell_type": "code",
   "execution_count": 2,
   "metadata": {},
   "outputs": [],
   "source": [
    "conf = SparkConf()\n",
    "# comment next line to use Spark locally\n",
    "#conf.setMaster(\"spark://spark-master:7077\")\n",
    "#conf.set(\"spark.executor.memory\", \"1g\")\n",
    "sc = SparkContext(conf=conf)\n"
   ]
  },
  {
   "cell_type": "code",
   "execution_count": 3,
   "metadata": {},
   "outputs": [],
   "source": [
    "def indirect_friends(tuple):\n",
    "    user, friends = tuple\n",
    "    for friend1 in friends:\n",
    "        for friend2 in friends:\n",
    "            if friend2 != friend1:\n",
    "                yield ((friend1, friend2), 1)"
   ]
  },
  {
   "cell_type": "code",
   "execution_count": 6,
   "metadata": {},
   "outputs": [],
   "source": [
    "# Read file from HDFS (hdfs://namenode:8020/user/root/soc-LiveJournal1Adj.txt.gz)\n",
    "#text_file = sc.textFile(\"soc-LiveJournal1Adj.txt.gz\")\n",
    "\n",
    "# Read file from local FS (use Spark locally, not the cluster)\n",
    "text_file = sc.textFile(\"../data/soc-LiveJournal1Adj.txt\")"
   ]
  },
  {
   "cell_type": "code",
   "execution_count": 7,
   "metadata": {},
   "outputs": [
    {
     "data": {
      "text/plain": [
       "PythonRDD[6] at RDD at PythonRDD.scala:53"
      ]
     },
     "execution_count": 7,
     "metadata": {},
     "output_type": "execute_result"
    }
   ],
   "source": [
    "data = text_file.filter(lambda e: \"\\t\" in e).map(lambda l: l.split(\"\\t\")).map(lambda l: (int(l[0]), [int(f) for f in l[1].strip().split(\",\") if l[1].strip() != '']))\n",
    "data = data.sample(withReplacement=False, fraction=0.01)\n",
    "# cache data to use in two transformations\n",
    "data.cache()"
   ]
  },
  {
   "cell_type": "code",
   "execution_count": 8,
   "metadata": {},
   "outputs": [],
   "source": [
    "friends = data.flatMapValues(lambda friend: friend).map(lambda p: ((p[0], p[1]), 1))"
   ]
  },
  {
   "cell_type": "code",
   "execution_count": 7,
   "metadata": {},
   "outputs": [],
   "source": [
    "suggestions = data.flatMap(indirect_friends).reduceByKey(lambda v1, v2: v1 + v2)"
   ]
  },
  {
   "cell_type": "code",
   "execution_count": 8,
   "metadata": {},
   "outputs": [],
   "source": [
    "suggestions = suggestions.subtractByKey(friends).sortBy(lambda x: x[1], False)"
   ]
  },
  {
   "cell_type": "code",
   "execution_count": 9,
   "metadata": {},
   "outputs": [
    {
     "data": {
      "text/plain": [
       "[((16539, 40423), 4),\n",
       " ((40423, 16539), 4),\n",
       " ((36908, 36936), 3),\n",
       " ((36936, 36908), 3),\n",
       " ((13867, 14231), 3),\n",
       " ((13867, 14237), 3),\n",
       " ((13959, 14071), 3),\n",
       " ((14071, 13959), 3),\n",
       " ((14231, 13867), 3),\n",
       " ((14231, 14237), 3)]"
      ]
     },
     "execution_count": 9,
     "metadata": {},
     "output_type": "execute_result"
    }
   ],
   "source": [
    "suggestions.take(10)"
   ]
  },
  {
   "cell_type": "code",
   "execution_count": null,
   "metadata": {},
   "outputs": [],
   "source": []
  }
 ],
 "metadata": {
  "kernelspec": {
   "display_name": "Python 3",
   "language": "python",
   "name": "python3"
  },
  "language_info": {
   "codemirror_mode": {
    "name": "ipython",
    "version": 3
   },
   "file_extension": ".py",
   "mimetype": "text/x-python",
   "name": "python",
   "nbconvert_exporter": "python",
   "pygments_lexer": "ipython3",
   "version": "3.7.6"
  }
 },
 "nbformat": 4,
 "nbformat_minor": 5
}
