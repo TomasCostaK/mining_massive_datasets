{
 "cells": [
  {
   "cell_type": "markdown",
   "metadata": {},
   "source": [
    "# Cluster Genre Visualization"
   ]
  },
  {
   "cell_type": "code",
   "execution_count": 2,
   "metadata": {},
   "outputs": [],
   "source": [
    "import numpy as np\n",
    "import matplotlib.pyplot as plt \n",
    "import json"
   ]
  },
  {
   "cell_type": "code",
   "execution_count": 5,
   "metadata": {},
   "outputs": [
    {
     "name": "stdout",
     "output_type": "stream",
     "text": [
      "{'Experimental': 769, 'Rock': 1775, 'NaN': 3429, 'Hip-Hop': 423, 'Soul-RnB': 12, 'Spoken': 13, 'Electronic': 975, 'Pop': 160, 'Folk': 67, 'Old-Time / Historic': 10, 'International': 115, 'Jazz': 32, 'Instrumental': 50, 'Classical': 6, 'Blues': 2, 'Country': 10}\n"
     ]
    }
   ],
   "source": [
    "with open('genre_results.json') as json_file:\n",
    "    data = json.load(json_file)\n",
    "\n",
    "print(data['0'])"
   ]
  },
  {
   "cell_type": "code",
   "execution_count": 30,
   "metadata": {},
   "outputs": [],
   "source": [
    "# Initialization of all genres\n",
    "experimental = []\n",
    "rock = []\n",
    "hip_hop = []\n",
    "soul_rnb = []\n",
    "spoken = []\n",
    "eletro = []\n",
    "pop = []\n",
    "folk = []\n",
    "old_time = []\n",
    "international = []\n",
    "jazz = []\n",
    "instrumental = []\n",
    "classical = []\n",
    "blues = []\n",
    "country = []\n",
    "easy = []\n",
    "\n",
    "X = list(data.keys())\n",
    "n=9\n",
    "r = np.arange(n)\n",
    "width = 0.3\n",
    "\n",
    "for cluster, values in data.items():\n",
    "        experimental.append(values['Experimental'])\n",
    "        rock.append(values['Rock'])\n",
    "        hip_hop.append(values['Hip-Hop'])\n",
    "        soul_rnb.append(values['Soul-RnB'])\n",
    "        spoken.append(values['Spoken'])\n",
    "        eletro.append(values['Electronic'])\n",
    "        pop.append(values['Pop'])\n",
    "        folk.append(values['Folk'])\n",
    "        international.append(values['International'])\n",
    "        jazz.append(values['Jazz'])\n",
    "        instrumental.append(values['Instrumental'])\n",
    "        classical.append(values['Classical'])\n",
    "        blues.append(values['Blues'])\n",
    "        country.append(values['Country'])"
   ]
  },
  {
   "cell_type": "code",
   "execution_count": 41,
   "metadata": {},
   "outputs": [
    {
     "data": {
      "image/png": "[encoded data removed]",
      "text/plain": [
       "<Figure size 432x288 with 1 Axes>"
      ]
     },
     "metadata": {
      "needs_background": "light"
     },
     "output_type": "display_data"
    },
    {
     "data": {
      "text/plain": [
       "<Figure size 2160x1440 with 0 Axes>"
      ]
     },
     "metadata": {},
     "output_type": "display_data"
    }
   ],
   "source": [
    "plt.bar(r + width, experimental, width = width, label = 'Experimental')\n",
    "plt.bar(r + width, rock, width = width, label = 'Rock')\n",
    "plt.bar(r + width, eletro, width = width, label = 'Electronic')\n",
    "plt.bar(r + width, pop, width = width, label = 'Pop')\n",
    "plt.bar(r + width, hip_hop, width = width, label = 'Hip-Hop')\n",
    "plt.bar(r + width, jazz, width = width, label = 'Jazz')\n",
    "plt.bar(r + width, soul_rnb, width = width, label = 'Soul-RnB')\n",
    "plt.bar(r + width, spoken, width = width, label = 'Spoken')\n",
    "plt.bar(r + width, blues, width = width, label = 'Blues')\n",
    "plt.bar(r + width, folk, width = width, label = 'Folk')\n",
    "plt.bar(r + width, international, width = width, label = 'International')\n",
    "  \n",
    "\n",
    "plt.xticks(X_axis, X)\n",
    "plt.xlabel(\"Clusters\")\n",
    "plt.ylabel(\"Number of Songs\")\n",
    "plt.title(\"Number of songs per genre in each cluster\")\n",
    "plt.legend()\n",
    "\n",
    "plt.show()"
   ]
  },
  {
   "cell_type": "code",
   "execution_count": null,
   "metadata": {},
   "outputs": [],
   "source": []
  }
 ],
 "metadata": {
  "kernelspec": {
   "display_name": "Python 3",
   "language": "python",
   "name": "python3"
  },
  "language_info": {
   "codemirror_mode": {
    "name": "ipython",
    "version": 3
   },
   "file_extension": ".py",
   "mimetype": "text/x-python",
   "name": "python",
   "nbconvert_exporter": "python",
   "pygments_lexer": "ipython3",
   "version": "3.7.6"
  }
 },
 "nbformat": 4,
 "nbformat_minor": 4
}
